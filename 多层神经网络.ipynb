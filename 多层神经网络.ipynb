{
 "cells": [
  {
   "cell_type": "code",
   "execution_count": 1,
   "metadata": {},
   "outputs": [],
   "source": [
    "import tensorflow as tf\n",
    "import numpy as np\n",
    "import matplotlib.pyplot as plt\n",
    "\n",
    "tf.set_random_seed(2019)\n",
    "\n",
    "def plot_decision_boundary(model,x,y):\n",
    "    x_min, x_max = x[:,0].min()-1, x[:,0].max()+1\n",
    "    y_min, y_max = x[:,1].min()-1, x[:,0].max()+1\n",
    "    h = 0.01\n",
    "    xx, yy = np.meshgrid(np.arange(x_min,x_max,h), np.arange(y_min, y_max, h))\n",
    "    \n",
    "    Z = model(np.c_[xx.ravel(), yy.ravel()])\n",
    "    Z = Z.reshape(xx.shape)\n",
    "    \n",
    "    plt.contourf(xx,yy,Z,cmap=plt.cm.Spectral)\n",
    "    plt.ylabel('x2')\n",
    "    plt.xlabel('x1')\n",
    "    plt.scatter(x[:,0], x[:,1], c =np.squeeze(y), cmap=plt.cm.Spectral)\n",
    "\n",
    "np.random.seed(1)\n",
    "m =400\n",
    "N = int(m/2)\n",
    "D =2\n",
    "x = np.zeros((m,D))\n",
    "y = np.zeros((m,1), dtype='uint8')\n",
    "a = 4\n",
    "\n",
    "for j in range(2):\n",
    "    ix = range(N*j, N*(j+1))\n",
    "    t = np.linspace(j*3.12, (j+1)*3.12, N) + np.random.randn(N)*0.2\n",
    "    r = a*np.sin(4*t) + np.random.randn(N)*0.2\n",
    "    x[ix] = np.c_[r*np.sin(t), r*np.cos(t)]\n",
    "    y[ix] = j"
   ]
  },
  {
   "cell_type": "code",
   "execution_count": null,
   "metadata": {},
   "outputs": [],
   "source": [
    "%matplotlib inline\n",
    "\n",
    "plt.scatter(x[:,0],x[:,1], c = np.squeeze(y),cmap=plt.cm.Spectral)"
   ]
  },
  {
   "cell_type": "code",
   "execution_count": null,
   "metadata": {},
   "outputs": [],
   "source": [
    "x = tf.constant(x, dtype=tf.float32, name='x')\n",
    "y = tf.constant(y, dtype=tf.float32, name='y')"
   ]
  },
  {
   "cell_type": "code",
   "execution_count": null,
   "metadata": {},
   "outputs": [],
   "source": [
    "#尝试logistic 方法\n",
    "x = tf.constant(x, dtype=tf.float32, name='x')\n",
    "y = tf.constant(y, dtype=tf.float32, name='y')\n",
    "\n",
    "w = tf.get_variable(initializer=tf.random_normal_initializer(), shape=(2,1), dtype=tf.float32, name='weights')\n",
    "b = tf.get_variable(initializer=tf.zeros_initializer(), shape=(1), dtype=tf.float32, name='bias')"
   ]
  },
  {
   "cell_type": "code",
   "execution_count": null,
   "metadata": {},
   "outputs": [],
   "source": [
    "def logistic_model(x):\n",
    "    logit = tf.sigmoid(tf.matmul(x,w)+b)\n",
    "    return logit\n",
    "\n",
    "y_ = logistic_model(x)\n",
    "\n",
    "loss = tf.losses.log_loss(predictions=y_, labels=y)\n",
    "\n",
    "lr = 1e-1\n",
    "optimizer = tf.train.GradientDescentOptimizer(loss)\n",
    "train_op = optimizer.minimize(loss)\n",
    "\n",
    "sess = tf.InteractiveSession()\n",
    "sess.run(tf.global_variables_initializer())\n",
    "\n",
    "for e in range(100):\n",
    "    sess.run(train_op)\n",
    "    if (e+1) % 10 ==0:\n",
    "        loss_numpy = loss.eval(session=sess)\n",
    "        print('Epoch: %d, Loss: %.6f' % (e+1, loss_numpy))"
   ]
  },
  {
   "cell_type": "code",
   "execution_count": null,
   "metadata": {},
   "outputs": [],
   "source": [
    "model_input = tf.placeholder(shape=(None,2), dtype=tf.float32, name='logistic_input')\n",
    "\n",
    "logistic_output = logistic_model(model_input)\n",
    "\n",
    "def plot_logistic(x_data):\n",
    "    y_pred_numpy = sess.run(logistic_output, feed_dict={model_input:x_data})\n",
    "    out = np.greater(y_pred_numpy,0.5).astype(np.float32)\n",
    "    return np.squeeze(out)"
   ]
  },
  {
   "cell_type": "code",
   "execution_count": null,
   "metadata": {},
   "outputs": [],
   "source": [
    "plot_decision_boundary(plot_logistic, x.eval(session=sess), y.eval(session=sess))"
   ]
  },
  {
   "cell_type": "code",
   "execution_count": null,
   "metadata": {},
   "outputs": [],
   "source": [
    "#?plt.contourf"
   ]
  },
  {
   "cell_type": "code",
   "execution_count": 16,
   "metadata": {},
   "outputs": [],
   "source": [
    "#tf.reset_default_graph()\n",
    "\n",
    "#两层神经网络\n",
    "with tf.variable_scope('layer1'):\n",
    "    w1 = tf.get_variable(initializer=tf.random_normal_initializer(stddev=0.01),dtype=tf.float32, shape=(2,4),name=\"weigths1\")\n",
    "    b1 = tf.get_variable(initializer=tf.zeros_initializer(),dtype=tf.float32, shape=(4), name=\"bias1\")\n",
    "\n",
    "with tf.variable_scope('layer2'):\n",
    "    w2 = tf.get_variable(initializer=tf.random_normal_initializer(stddev=0.01),dtype=tf.float32, shape=(4,1),name=\"weigths2\")\n",
    "    b2= tf.get_variable(initializer=tf.zeros_initializer(), shape=(1),dtype=tf.float32, name=\"bias2\")\n",
    "\n",
    "def two_network(nn_input):\n",
    "    with tf.variable_scope('two_network'):\n",
    "        net = tf.matmul(nn_input,w1)+b1\n",
    "        net = tf.tanh(net)\n",
    "        \n",
    "        net = tf.matmul(net,w2)+b2\n",
    "        net = tf.sigmoid(net)\n",
    "        return net\n"
   ]
  },
  {
   "cell_type": "code",
   "execution_count": 17,
   "metadata": {},
   "outputs": [
    {
     "name": "stdout",
     "output_type": "stream",
     "text": [
      "Epoch: 1000, Loss: 0.2856254279613495\n",
      "Epoch: 2000, Loss: 0.27238380908966064\n",
      "Epoch: 3000, Loss: 0.26521292328834534\n",
      "Epoch: 4000, Loss: 0.2603556513786316\n",
      "Epoch: 5000, Loss: 0.25689005851745605\n",
      "Epoch: 6000, Loss: 0.2543255090713501\n",
      "Epoch: 7000, Loss: 0.2523673474788666\n",
      "Epoch: 8000, Loss: 0.25083184242248535\n",
      "Epoch: 9000, Loss: 0.24960023164749146\n",
      "Epoch: 10000, Loss: 0.24859312176704407\n"
     ]
    }
   ],
   "source": [
    "net = two_network(x)\n",
    "\n",
    "loss_two = tf.losses.log_loss(predictions=net, labels=y)\n",
    "\n",
    "lr =1 \n",
    "optimizer = tf.train.GradientDescentOptimizer(learning_rate=lr)\n",
    "train_op = optimizer.minimize(loss_two, var_list=[w1,b1,w2,b2])\n",
    "\n",
    "saver = tf.train.Saver()\n",
    "\n",
    "sess.run(tf.global_variables_initializer())\n",
    "\n",
    "for e in range(10000):\n",
    "    sess.run(train_op)\n",
    "    if (e+1) % 1000 ==0:\n",
    "        loss_numpy = loss_two.eval(session=sess)\n",
    "        print('Epoch: {}, Loss: {}'.format(e+1, loss_numpy))\n",
    "    if (e+1) % 5000 == 0:\n",
    "        saver.save(sess=sess, save_path='First_Save/model.ckpt', global_step=(e+1))"
   ]
  },
  {
   "cell_type": "code",
   "execution_count": 18,
   "metadata": {},
   "outputs": [],
   "source": [
    "nn_out = two_network(model_input)"
   ]
  },
  {
   "cell_type": "code",
   "execution_count": 19,
   "metadata": {},
   "outputs": [],
   "source": [
    "def plot_network(input_data):\n",
    "    y_pred_numpy = sess.run(nn_out, feed_dict={model_input:input_data})\n",
    "    out = np.greater(y_pred_numpy, 0.5).astype(np.float32)\n",
    "    return np.squeeze(out)"
   ]
  },
  {
   "cell_type": "code",
   "execution_count": 20,
   "metadata": {},
   "outputs": [
    {
     "data": {
      "text/plain": [
       "Text(0.5,1,'2 layer network')"
      ]
     },
     "execution_count": 20,
     "metadata": {},
     "output_type": "execute_result"
    },
    {
     "data": {
      "image/png": "[encoded data removed]",
      "text/plain": [
       "<Figure size 432x288 with 1 Axes>"
      ]
     },
     "metadata": {
      "needs_background": "light"
     },
     "output_type": "display_data"
    }
   ],
   "source": [
    "plot_decision_boundary(plot_network, x.eval(session=sess), y.eval(session=sess))\n",
    "plt.title('2 layer network')"
   ]
  },
  {
   "cell_type": "code",
   "execution_count": null,
   "metadata": {},
   "outputs": [],
   "source": [
    "sess.close()"
   ]
  },
  {
   "cell_type": "code",
   "execution_count": null,
   "metadata": {},
   "outputs": [],
   "source": [
    "sess = tf.InteractiveSession()\n",
    "#模型的恢复\n",
    "saver = tf.train.import_meta_graph('First_Save/model.ckpt-10000.meta')\n",
    "saver.restore(sess,'First_Save/model.ckpt-10000')\n",
    "print(w1.eval(session=sess))\n",
    "plot_decision_boundary(plot_network,x.eval(session=sess), y.eval(session=sess))"
   ]
  },
  {
   "cell_type": "code",
   "execution_count": 2,
   "metadata": {},
   "outputs": [],
   "source": [
    "#tf.reset_default_graph()\n",
    "x = tf.constant(x, dtype=tf.float32, name='x')\n",
    "y = tf.constant(y, dtype=tf.float32, name='y')"
   ]
  },
  {
   "cell_type": "code",
   "execution_count": 3,
   "metadata": {},
   "outputs": [],
   "source": [
    "#5层神经网络\n",
    "def hidden_layer(layer_input, output_depth, scope='hidden_layer', reuse=None):\n",
    "    input_depth = layer_input.get_shape()[-1]\n",
    "    with tf.variable_scope(scope,reuse=reuse):\n",
    "        w = tf.get_variable(initializer=tf.random_normal_initializer(), shape=(input_depth, output_depth),\n",
    "                            name='weights')\n",
    "        b = tf.get_variable(initializer=tf.zeros_initializer(),shape=(output_depth), name=\"bias\")\n",
    "        net = tf.matmul(layer_input,w)+b\n",
    "        return net"
   ]
  },
  {
   "cell_type": "code",
   "execution_count": 4,
   "metadata": {},
   "outputs": [],
   "source": [
    "def DNN(x, output_depths, scope = 'DNN', reuse=None):\n",
    "    net =x\n",
    "    for i, output_depth in enumerate(output_depths):\n",
    "        print(i)\n",
    "        net = hidden_layer(net, output_depth, scope = 'layer%d' % i, reuse = reuse)\n",
    "        net = tf.tanh(net)\n",
    "    net = hidden_layer(net,1,scope='classification',reuse=reuse)\n",
    "    return tf.sigmoid(net)"
   ]
  },
  {
   "cell_type": "code",
   "execution_count": 5,
   "metadata": {},
   "outputs": [
    {
     "name": "stdout",
     "output_type": "stream",
     "text": [
      "0\n",
      "1\n",
      "2\n",
      "3\n"
     ]
    }
   ],
   "source": [
    "dnn = DNN(x, [10,10,10,10])"
   ]
  },
  {
   "cell_type": "code",
   "execution_count": 9,
   "metadata": {},
   "outputs": [],
   "source": [
    "loss_dnn = tf.losses.log_loss(predictions=dnn, labels=y)\n",
    "lr = 0.1\n",
    "optimizer = tf.train.GradientDescentOptimizer(learning_rate=lr)\n",
    "train_op = optimizer.minimize(loss)"
   ]
  },
  {
   "cell_type": "code",
   "execution_count": 10,
   "metadata": {},
   "outputs": [
    {
     "name": "stderr",
     "output_type": "stream",
     "text": [
      "/usr/local/lib/python3.5/dist-packages/tensorflow/python/client/session.py:1702: UserWarning: An interactive session is already active. This can cause out-of-memory errors in some cases. You must explicitly call `InteractiveSession.close()` to release resources held by the other session(s).\n",
      "  warnings.warn('An interactive session is already active. This can '\n"
     ]
    }
   ],
   "source": [
    "sess = tf.InteractiveSession()"
   ]
  },
  {
   "cell_type": "code",
   "execution_count": 11,
   "metadata": {},
   "outputs": [],
   "source": [
    "sess.run(tf.global_variables_initializer())"
   ]
  },
  {
   "cell_type": "code",
   "execution_count": 12,
   "metadata": {},
   "outputs": [
    {
     "name": "stdout",
     "output_type": "stream",
     "text": [
      "Epoch: 1000, Loss: 0.1666695922613144\n",
      "Epoch: 2000, Loss: 0.14114123582839966\n",
      "Epoch: 3000, Loss: 0.12536479532718658\n",
      "Epoch: 4000, Loss: 0.11108673363924026\n",
      "Epoch: 5000, Loss: 0.10885003954172134\n",
      "Epoch: 6000, Loss: 0.09620025008916855\n",
      "Epoch: 7000, Loss: 0.09199898689985275\n",
      "Epoch: 8000, Loss: 0.08213885128498077\n",
      "Epoch: 9000, Loss: 0.08112547546625137\n",
      "Epoch: 10000, Loss: 0.07679705321788788\n"
     ]
    }
   ],
   "source": [
    "for e in range(10000):\n",
    "    sess.run(train_op)\n",
    "    if (e+1) % 1000 == 0:\n",
    "        loss_numpy = loss_dnn.eval(session=sess)\n",
    "        print('Epoch: {}, Loss: {}'.format(e+1, loss_numpy))"
   ]
  },
  {
   "cell_type": "code",
   "execution_count": 13,
   "metadata": {},
   "outputs": [
    {
     "name": "stdout",
     "output_type": "stream",
     "text": [
      "0\n",
      "1\n",
      "2\n",
      "3\n"
     ]
    }
   ],
   "source": [
    "model_input = tf.placeholder(shape=(None,2), dtype=tf.float32, name='logistic_input')\n",
    "dnn_out = DNN(model_input,[10,10,10,10],reuse=True)"
   ]
  },
  {
   "cell_type": "code",
   "execution_count": 14,
   "metadata": {},
   "outputs": [],
   "source": [
    "def plot_dnn(input_data):\n",
    "    y_pred_numpy = sess.run(dnn_out,feed_dict={model_input:input_data})\n",
    "    out = np.greater(y_pred_numpy,0.5).astype(np.float32)\n",
    "    return np.squeeze(out)"
   ]
  },
  {
   "cell_type": "code",
   "execution_count": 15,
   "metadata": {},
   "outputs": [
    {
     "data": {
      "text/plain": [
       "Text(0.5,1,'4 layer network')"
      ]
     },
     "execution_count": 15,
     "metadata": {},
     "output_type": "execute_result"
    },
    {
     "data": {
      "image/png": "[encoded data removed]",
      "text/plain": [
       "<Figure size 432x288 with 1 Axes>"
      ]
     },
     "metadata": {
      "needs_background": "light"
     },
     "output_type": "display_data"
    }
   ],
   "source": [
    "plot_decision_boundary(plot_dnn, x.eval(session=sess),y.eval(session=sess))\n",
    "plt.title('4 layer network')"
   ]
  },
  {
   "cell_type": "code",
   "execution_count": null,
   "metadata": {},
   "outputs": [],
   "source": []
  }
 ],
 "metadata": {
  "kernelspec": {
   "display_name": "Python 3",
   "language": "python",
   "name": "python3"
  },
  "language_info": {
   "codemirror_mode": {
    "name": "ipython",
    "version": 3
   },
   "file_extension": ".py",
   "mimetype": "text/x-python",
   "name": "python",
   "nbconvert_exporter": "python",
   "pygments_lexer": "ipython3",
   "version": "3.5.2"
  }
 },
 "nbformat": 4,
 "nbformat_minor": 2
}
