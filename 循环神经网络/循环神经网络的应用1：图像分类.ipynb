{
 "cells": [
  {
   "cell_type": "code",
   "execution_count": 1,
   "metadata": {},
   "outputs": [
    {
     "name": "stdout",
     "output_type": "stream",
     "text": [
      "WARNING:tensorflow:From <ipython-input-1-db94b3601a5f>:7: read_data_sets (from tensorflow.contrib.learn.python.learn.datasets.mnist) is deprecated and will be removed in a future version.\n",
      "Instructions for updating:\n",
      "Please use alternatives such as official/mnist/dataset.py from tensorflow/models.\n",
      "WARNING:tensorflow:From /usr/local/lib/python3.5/dist-packages/tensorflow/contrib/learn/python/learn/datasets/mnist.py:260: maybe_download (from tensorflow.contrib.learn.python.learn.datasets.base) is deprecated and will be removed in a future version.\n",
      "Instructions for updating:\n",
      "Please write your own downloading logic.\n",
      "WARNING:tensorflow:From /usr/local/lib/python3.5/dist-packages/tensorflow/contrib/learn/python/learn/datasets/mnist.py:262: extract_images (from tensorflow.contrib.learn.python.learn.datasets.mnist) is deprecated and will be removed in a future version.\n",
      "Instructions for updating:\n",
      "Please use tf.data to implement this functionality.\n",
      "Extracting ../MNIST_data/train-images-idx3-ubyte.gz\n",
      "WARNING:tensorflow:From /usr/local/lib/python3.5/dist-packages/tensorflow/contrib/learn/python/learn/datasets/mnist.py:267: extract_labels (from tensorflow.contrib.learn.python.learn.datasets.mnist) is deprecated and will be removed in a future version.\n",
      "Instructions for updating:\n",
      "Please use tf.data to implement this functionality.\n",
      "Extracting ../MNIST_data/train-labels-idx1-ubyte.gz\n",
      "WARNING:tensorflow:From /usr/local/lib/python3.5/dist-packages/tensorflow/contrib/learn/python/learn/datasets/mnist.py:110: dense_to_one_hot (from tensorflow.contrib.learn.python.learn.datasets.mnist) is deprecated and will be removed in a future version.\n",
      "Instructions for updating:\n",
      "Please use tf.one_hot on tensors.\n",
      "Extracting ../MNIST_data/t10k-images-idx3-ubyte.gz\n",
      "Extracting ../MNIST_data/t10k-labels-idx1-ubyte.gz\n",
      "WARNING:tensorflow:From /usr/local/lib/python3.5/dist-packages/tensorflow/contrib/learn/python/learn/datasets/mnist.py:290: DataSet.__init__ (from tensorflow.contrib.learn.python.learn.datasets.mnist) is deprecated and will be removed in a future version.\n",
      "Instructions for updating:\n",
      "Please use alternatives such as official/mnist/dataset.py from tensorflow/models.\n",
      "(28, ?, 28)\n",
      "Step 1: train_loss: 2.311135 train_acc: 0.109375 test_loss:2.294906 test_acc: 0.078125\n",
      "Step 501: train_loss: 0.485433 train_acc: 0.859375 test_loss:0.329423 test_acc: 0.882812\n",
      "Step 1001: train_loss: 0.171368 train_acc: 0.953125 test_loss:0.242567 test_acc: 0.906250\n",
      "Step 1501: train_loss: 0.152975 train_acc: 0.953125 test_loss:0.073106 test_acc: 0.968750\n",
      "Step 2001: train_loss: 0.090924 train_acc: 0.984375 test_loss:0.047290 test_acc: 0.984375\n",
      "Step 2501: train_loss: 0.095720 train_acc: 0.984375 test_loss:0.105118 test_acc: 0.976562\n",
      "Step 3001: train_loss: 0.092154 train_acc: 0.968750 test_loss:0.061952 test_acc: 0.976562\n",
      "Step 3501: train_loss: 0.080871 train_acc: 0.968750 test_loss:0.016659 test_acc: 1.000000\n",
      "Step 4001: train_loss: 0.205690 train_acc: 0.984375 test_loss:0.115229 test_acc: 0.968750\n",
      "Step 4501: train_loss: 0.088218 train_acc: 0.953125 test_loss:0.100871 test_acc: 0.960938\n",
      "Train done !!\n",
      "----------------------------------------\n"
     ]
    }
   ],
   "source": [
    "import numpy as np\n",
    "import tensorflow as tf\n",
    "import tensorflow.contrib.slim as slim\n",
    "\n",
    "import tensorflow.examples.tutorials.mnist.input_data as input_data\n",
    "tf.set_random_seed(2019)\n",
    "mnist = input_data.read_data_sets(\"../MNIST_data\", one_hot=True, reshape=False)\n",
    "train_set = mnist.train\n",
    "test_set = mnist.test\n",
    "\n",
    "#train_imgs, train_labels = train_set.next_batch(64)\n",
    "#print(train_imgs[0].shape)\n",
    "#print(train_labels.shape)\n",
    "\n",
    "def build_lstm(num_units, num_layers, batch_size, keep_prob =1):\n",
    "    def build_cell(num_units):\n",
    "        cell = tf.nn.rnn_cell.LSTMCell(num_units, reuse=tf.AUTO_REUSE)\n",
    "        cell = tf.nn.rnn_cell.DropoutWrapper(cell, output_keep_prob=keep_prob)\n",
    "        return cell\n",
    "    cell = tf.nn.rnn_cell.MultiRNNCell([build_cell(num_units) for _ in range(num_layers)])\n",
    "    init_state = cell.zero_state(batch_size, tf.float32)\n",
    "    \n",
    "    return cell, init_state\n",
    "def lstm(x, num_units, num_layers, batch_size, keep_prob =1):\n",
    "    lstm_cell, lstm_init_state = build_lstm(num_units, num_layers, batch_size)\n",
    "    lstm, final_state = tf.nn.dynamic_rnn(lstm_cell, x, initial_state=lstm_init_state, time_major=True)\n",
    "    return lstm, final_state\n",
    "\n",
    "input_ph = tf.placeholder(shape=(None,28,28,1), dtype=tf.float32)\n",
    "label_ph = tf.placeholder(shape=(None, 10), dtype=tf.int64)\n",
    "batch_size_ph = tf.placeholder(tf.int32, [])\n",
    "keep_prob_ph = tf.placeholder(tf.float32, [])\n",
    "inputs = tf.transpose(tf.squeeze(input_ph, axis=[-1]), (1,0,2))\n",
    "\n",
    "#一维是时间步长， 二维是batch size, 三维是特征个数\n",
    "#[max_time, batch_size, depth]`.\n",
    "print(inputs.shape)\n",
    "def rnn_classify(inputs, rnn_units = 100, rnn_layers = 2, batch_size = 64, keep_prob=1, num_classes = 10):\n",
    "    rnn_out, rnn_state = lstm(inputs, rnn_units, rnn_layers, batch_size, keep_prob=keep_prob)\n",
    "    net = rnn_out[-1]\n",
    "    net = slim.flatten(net)\n",
    "    net = slim.fully_connected(net , num_classes, activation_fn=None, scope='classification')\n",
    "    return net\n",
    "\n",
    "out = rnn_classify(inputs, batch_size=batch_size_ph, keep_prob=keep_prob_ph)\n",
    "\n",
    "loss = tf.losses.softmax_cross_entropy(logits=out, onehot_labels=label_ph)\n",
    "acc = tf.reduce_mean(tf.cast(tf.equal(tf.argmax(out, axis=-1),tf.argmax(label_ph, axis=-1)), \n",
    "                              dtype=tf.float32))\n",
    "\n",
    "lr = 0.01\n",
    "optimizer = tf.train.MomentumOptimizer(lr, 0.9)\n",
    "train_op = optimizer.minimize(loss)\n",
    "\n",
    "sess = tf.InteractiveSession()\n",
    "sess.run(tf.global_variables_initializer())\n",
    "\n",
    "for e in range(5000):\n",
    "    images, labels = train_set.next_batch(64)\n",
    "    sess.run(train_op, feed_dict={input_ph: images, label_ph: labels, batch_size_ph: 64, keep_prob_ph: 0.5})\n",
    "    if e %500 ==0:\n",
    "        test_images, test_labels = test_set.next_batch(128)\n",
    "        loss_train, acc_train = sess.run([loss,acc], feed_dict={input_ph: images, label_ph: labels, \n",
    "                                                              batch_size_ph: 64, keep_prob_ph: 0.5})\n",
    "        loss_test, acc_test = sess.run([loss,acc], feed_dict={input_ph: test_images, label_ph: test_labels, \n",
    "                                                              batch_size_ph: 128, keep_prob_ph: 0.5})\n",
    "        print('Step {}: train_loss: {:.6f} train_acc: {:.6f} test_loss:{:.6f} test_acc: {:.6f}'.format(e+1,loss_train, acc_train, loss_test, acc_test))\n",
    "print(\"Train done !!\")  \n",
    "print(\"-\"*40)"
   ]
  },
  {
   "cell_type": "code",
   "execution_count": 2,
   "metadata": {},
   "outputs": [],
   "source": [
    "?tf.transpose"
   ]
  },
  {
   "cell_type": "code",
   "execution_count": 3,
   "metadata": {},
   "outputs": [
    {
     "name": "stdout",
     "output_type": "stream",
     "text": [
      "(28, 28, 1)\n",
      "(64, 10)\n"
     ]
    }
   ],
   "source": [
    "train_imgs, train_labels = train_set.next_batch(64)\n",
    "print(train_imgs[0].shape)\n",
    "print(train_labels.shape)"
   ]
  },
  {
   "cell_type": "code",
   "execution_count": 23,
   "metadata": {},
   "outputs": [
    {
     "data": {
      "text/plain": [
       "TensorShape([Dimension(28), Dimension(None), Dimension(28)])"
      ]
     },
     "execution_count": 23,
     "metadata": {},
     "output_type": "execute_result"
    }
   ],
   "source": [
    "inputs.shape"
   ]
  },
  {
   "cell_type": "code",
   "execution_count": 22,
   "metadata": {},
   "outputs": [
    {
     "data": {
      "text/plain": [
       "<matplotlib.image.AxesImage at 0x7f00c9ba5048>"
      ]
     },
     "execution_count": 22,
     "metadata": {},
     "output_type": "execute_result"
    },
    {
     "data": {
      "image/png": "[encoded data removed]",
      "text/plain": [
       "<Figure size 432x288 with 1 Axes>"
      ]
     },
     "metadata": {
      "needs_background": "light"
     },
     "output_type": "display_data"
    }
   ],
   "source": [
    "import matplotlib.pyplot as plt\n",
    "\n",
    "plt.imshow(train_imgs[2].reshape([28,28]),cmap=plt.cm.gray)"
   ]
  },
  {
   "cell_type": "code",
   "execution_count": 24,
   "metadata": {},
   "outputs": [],
   "source": [
    "?tf.nn.dynamic_rnn"
   ]
  },
  {
   "cell_type": "code",
   "execution_count": null,
   "metadata": {},
   "outputs": [],
   "source": []
  }
 ],
 "metadata": {
  "kernelspec": {
   "display_name": "Python 3",
   "language": "python",
   "name": "python3"
  },
  "language_info": {
   "codemirror_mode": {
    "name": "ipython",
    "version": 3
   },
   "file_extension": ".py",
   "mimetype": "text/x-python",
   "name": "python",
   "nbconvert_exporter": "python",
   "pygments_lexer": "ipython3",
   "version": "3.6.7"
  }
 },
 "nbformat": 4,
 "nbformat_minor": 2
}
