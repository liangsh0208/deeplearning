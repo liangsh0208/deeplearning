{
 "cells": [
  {
   "cell_type": "code",
   "execution_count": 2,
   "metadata": {},
   "outputs": [],
   "source": [
    "import tensorflow as tf\n",
    "\n",
    "import numpy as np\n",
    "import pandas as pd\n",
    "import matplotlib.pyplot as plt\n",
    "%matplotlib inline\n",
    "import tensorflow.contrib.slim as slim"
   ]
  },
  {
   "cell_type": "code",
   "execution_count": 2,
   "metadata": {},
   "outputs": [],
   "source": [
    "def build_rnn(num_units, num_layers, batch_size, keep_prob=1):\n",
    "    def build_cell(num_units, keep_prob):\n",
    "        cell = tf.nn.rnn_cell.BasicRNNCell(num_units)\n",
    "        cell = tf.nn.rnn_cell.DropoutWrapper(cell, output_keep_prob=keep_prob)\n",
    "        return cell\n",
    "    cell = tf.nn.rnn_cell.MultiRNNCell([build_cell(num_units, keep_prob) for _ in range(num_layers)])\n",
    "    init_state = cell.zero_state(batch_size, tf.float32)\n",
    "    \n",
    "    return cell, init_state\n",
    "\n",
    "def rnn(x, num_units, num_layers, batch_size, init_state=None, keep_prob=1,\n",
    "        time_major=True, scope='rnn', reuse=None):\n",
    "    with tf.variable_scope(scope, reuse=reuse):\n",
    "        cell, zero_state = build_rnn(num_units, num_layers, batch_size, keep_prob)\n",
    "        if init_state is not None:\n",
    "            out, final_state = tf.nn.dynamic_rnn(cell, x, initial_state=init_state, time_major=time_major)\n",
    "        else:\n",
    "            out, final_state = tf.nn.dynamic_rnn(cell, x, initial_state=zero_state, time_major=time_major)\n",
    "        return out, final_state"
   ]
  },
  {
   "cell_type": "code",
   "execution_count": 3,
   "metadata": {},
   "outputs": [],
   "source": [
    "?tf.nn.rnn_cell.BasicRNNCell"
   ]
  },
  {
   "cell_type": "code",
   "execution_count": 3,
   "metadata": {},
   "outputs": [],
   "source": [
    "def build_lstm(num_units, num_layers, batch_size, keep_prob=1):\n",
    "    def build_cell(num_units, keep_prob):\n",
    "        cell = tf.nn.rnn_cell.LSTMCell(num_units)\n",
    "        cell = tf.nn.rnn_cell.DropoutWrapper(cell, output_keep_prob=keep_prob)\n",
    "        return cell\n",
    "    cell = tf.nn.rnn_cell.MultiRNNCell([build_cell(num_units, keep_prob) for _ in range(num_layers)])\n",
    "    init_state = cell.zero_state(batch_size, tf.float32)\n",
    "    \n",
    "    return cell, init_state\n",
    "\n",
    "def lstm(x, num_units, num_layers, batch_size, init_state=None, keep_prob=1, \n",
    "         time_major = True, scope='lstm', reuse=None):\n",
    "    with tf.variable_scope(scope, reuse=reuse):\n",
    "        cell, zero_state = build_lstm(num_units, num_layers, batch_size, keep_prob)\n",
    "        if init_state is not None:\n",
    "            out, final_state = tf.nn.dynamic_rnn(cell, x, initial_state=init_state, time_major=time_major)\n",
    "        else:\n",
    "            out, final_state = tf.nn.dynamic_rnn(cell, x, initial_state=zero_state, time_major=time_major)\n",
    "        return out, final_state"
   ]
  },
  {
   "cell_type": "code",
   "execution_count": 10,
   "metadata": {},
   "outputs": [],
   "source": [
    "?tf.nn.dynamic_rnn"
   ]
  },
  {
   "cell_type": "code",
   "execution_count": 4,
   "metadata": {},
   "outputs": [],
   "source": [
    "def build_gru(num_units, num_layers, batch_size, keep_prob=1):\n",
    "    def build_cell(num_units, keep_prob):\n",
    "        cell = tf.nn.rnn_cell.GRUCell(num_units)\n",
    "        cell = tf.nn.rnn_cell.DropoutWrapper(cell, output_keep_prob=keep_prob)\n",
    "        return cell\n",
    "    cell = tf.nn.rnn_cell.MultiRNNCell([build_cell(num_units,keep_prob) for _ in range(num_layers)])\n",
    "    init_state = cell.zero_state(batch_size, tf.float32)\n",
    "    \n",
    "    return cell, init_state\n",
    "\n",
    "def gru(x, num_units, num_layers, batch_size, init_state=None, keep_prob=1, \n",
    "        time_major=True, scope='gru', reuse=None):\n",
    "    with tf.variable_scope(scope):\n",
    "        cell, zero_state = build_gru(num_units, num_layers, batch_size, keep_prob)\n",
    "        if init_state is not None:\n",
    "            out, final_state = tf.nn.dynamic_rnn(cell, x, initial_state=init_state, time_major=time_major)\n",
    "        else:\n",
    "            out. final_state = tf.nn.dynamic_rnn(cell, x, initial_state=zero_state, time_major= time_major)\n",
    "        \n",
    "        return out,final_state"
   ]
  },
  {
   "cell_type": "code",
   "execution_count": 2,
   "metadata": {
    "scrolled": false
   },
   "outputs": [
    {
     "data": {
      "image/png": "[encoded data removed]",
      "text/plain": [
       "<Figure size 432x288 with 1 Axes>"
      ]
     },
     "metadata": {
      "needs_background": "light"
     },
     "output_type": "display_data"
    }
   ],
   "source": [
    "data_csv = pd.read_csv(\"./airplane_traffic.csv\",usecols=[1])\n",
    "\n",
    "plt.plot(data_csv)\n",
    "\n",
    "data_csv = data_csv.dropna()\n",
    "dataset = data_csv.values\n",
    "dataset = dataset.astype('float32')\n",
    "\n",
    "max_value = np.max(dataset)\n",
    "min_value = np.min(dataset)\n",
    "scalar = max_value - min_value\n",
    "dataset = list(map(lambda x: x/scalar , dataset))\n",
    "\n",
    "def creat_dataset(dataset, look_back=2):\n",
    "    dataX, dataY = [], []\n",
    "    for i in range(len(dataset) - look_back):\n",
    "        a = dataset[i:(i+look_back)]\n",
    "        dataX.append(a)\n",
    "        dataY.append(dataset[i+look_back])\n",
    "    return np.array(dataX), np.array(dataY)\n",
    "\n",
    "dataX, dataY = creat_dataset(dataset)\n",
    "\n",
    "train_size = int(len(dataX)*0.7)\n",
    "test_size = len(dataX) - train_size\n",
    "train_X = dataX[:train_size]\n",
    "train_Y = dataY[:train_size]\n",
    "test_X = dataX[train_size:]\n",
    "test_Y = dataY[train_size:]\n",
    "\n",
    "train_X = train_X.reshape(-1, 1, 2)\n",
    "train_Y = train_Y.reshape(-1, 1, 1)\n",
    "test_X = test_X.reshape(-1,1,2)\n",
    "test_Y = test_Y.reshape(-1,1,1)"
   ]
  },
  {
   "cell_type": "code",
   "execution_count": 5,
   "metadata": {},
   "outputs": [
    {
     "data": {
      "text/plain": [
       "(99, 1, 2)"
      ]
     },
     "execution_count": 5,
     "metadata": {},
     "output_type": "execute_result"
    }
   ],
   "source": [
    "train_X.shape"
   ]
  },
  {
   "cell_type": "code",
   "execution_count": 4,
   "metadata": {},
   "outputs": [
    {
     "data": {
      "text/plain": [
       "array([[0.21621622, 0.22779922]], dtype=float32)"
      ]
     },
     "execution_count": 4,
     "metadata": {},
     "output_type": "execute_result"
    }
   ],
   "source": [
    "train_X[0]"
   ]
  },
  {
   "cell_type": "code",
   "execution_count": 6,
   "metadata": {},
   "outputs": [],
   "source": [
    "inpu_ph = tf.placeholder(shape=[None,1,2], dtype=tf.float32, name='input')\n",
    "target_ph = tf.placeholder(shape=[None,1,1], dtype=tf.float32, name='target')\n",
    "\n",
    "def lstm_reg(inputs, num_units, output_size =1 , keep_prob=1, num_layers=2, scope='lstm_reg', reuse=None):\n",
    "    with tf.variable_scope(scope, reuse=reuse):\n",
    "        net, state = lstm(inputs, num_units, num_layers, 1, keep_prob=keep_prob)\n",
    "        s,b,n = net.get_shape().as_list()\n",
    "        net = tf.reshape(net , (-1, num_units))\n",
    "        net = slim.fully_connected(net, output_size, activation_fn=None, scope='regression')\n",
    "        net = tf.reshape(net,(-1,b,output_size))\n",
    "        return net\n",
    "\n",
    "out = lstm_reg(inpu_ph, 4)\n",
    "\n",
    "loss = tf.losses.mean_squared_error(target_ph, out)\n",
    "\n",
    "opt = tf.train.AdamOptimizer(1e-2)\n",
    "train_op = opt.minimize(loss)\n",
    "\n",
    "sess = tf.Session()\n",
    "sess.run(tf.global_variables_initializer())"
   ]
  },
  {
   "cell_type": "code",
   "execution_count": 24,
   "metadata": {},
   "outputs": [
    {
     "name": "stdout",
     "output_type": "stream",
     "text": [
      "Epoch: 100, loss: 0.00055\n",
      "Epoch: 200, loss: 0.00051\n",
      "Epoch: 300, loss: 0.00052\n",
      "Epoch: 400, loss: 0.00045\n",
      "Epoch: 500, loss: 0.00044\n",
      "Epoch: 600, loss: 0.00043\n",
      "Epoch: 700, loss: 0.00040\n",
      "Epoch: 800, loss: 0.00039\n",
      "Epoch: 900, loss: 0.00042\n",
      "Epoch: 1000, loss: 0.00037\n",
      "Epoch: 1100, loss: 0.00037\n",
      "Epoch: 1200, loss: 0.00036\n",
      "Epoch: 1300, loss: 0.00039\n",
      "Epoch: 1400, loss: 0.00034\n",
      "Epoch: 1500, loss: 0.00036\n",
      "Epoch: 1600, loss: 0.00033\n",
      "Epoch: 1700, loss: 0.00031\n",
      "Epoch: 1800, loss: 0.00034\n",
      "Epoch: 1900, loss: 0.00035\n",
      "Epoch: 2000, loss: 0.00027\n",
      "Epoch: 2100, loss: 0.00031\n",
      "Epoch: 2200, loss: 0.00025\n",
      "Epoch: 2300, loss: 0.00024\n",
      "Epoch: 2400, loss: 0.00023\n",
      "Epoch: 2500, loss: 0.00023\n",
      "Epoch: 2600, loss: 0.00032\n",
      "Epoch: 2700, loss: 0.00042\n",
      "Epoch: 2800, loss: 0.00029\n",
      "Epoch: 2900, loss: 0.00026\n",
      "Epoch: 3000, loss: 0.00024\n"
     ]
    },
    {
     "data": {
      "text/plain": [
       "<matplotlib.legend.Legend at 0x7f82c00c0588>"
      ]
     },
     "execution_count": 24,
     "metadata": {},
     "output_type": "execute_result"
    },
    {
     "data": {
      "image/png": "[encoded data removed]",
      "text/plain": [
       "<Figure size 432x288 with 1 Axes>"
      ]
     },
     "metadata": {
      "needs_background": "light"
     },
     "output_type": "display_data"
    }
   ],
   "source": [
    "for e in range(3000):\n",
    "    feed_dict = {inpu_ph: train_X, target_ph:train_Y}\n",
    "    sess.run(train_op, feed_dict=feed_dict)\n",
    "    if (e+1)%100 ==0 :\n",
    "        print(\"Epoch: {}, loss: {:.5f}\".format(e+1, sess.run(loss, feed_dict=feed_dict)))\n",
    "\n",
    "data_X = dataX.reshape((-1,1,2))\n",
    "pred_test = sess.run(out, feed_dict={inpu_ph:data_X})\n",
    "pred_test = pred_test.flatten()\n",
    "\n",
    "plt.plot(pred_test, 'r', label='predicton')\n",
    "plt.plot(dataset, 'b', label='real')\n",
    "plt.legend(loc='best')\n",
    "\n"
   ]
  },
  {
   "cell_type": "code",
   "execution_count": null,
   "metadata": {},
   "outputs": [],
   "source": []
  }
 ],
 "metadata": {
  "kernelspec": {
   "display_name": "Python 3",
   "language": "python",
   "name": "python3"
  },
  "language_info": {
   "codemirror_mode": {
    "name": "ipython",
    "version": 3
   },
   "file_extension": ".py",
   "mimetype": "text/x-python",
   "name": "python",
   "nbconvert_exporter": "python",
   "pygments_lexer": "ipython3",
   "version": "3.5.2"
  }
 },
 "nbformat": 4,
 "nbformat_minor": 2
}
