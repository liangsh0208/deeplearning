{
 "cells": [
  {
   "cell_type": "code",
   "execution_count": 1,
   "metadata": {},
   "outputs": [],
   "source": [
    "import tensorflow as tf"
   ]
  },
  {
   "cell_type": "code",
   "execution_count": 2,
   "metadata": {},
   "outputs": [
    {
     "name": "stdout",
     "output_type": "stream",
     "text": [
      "WARNING:tensorflow:From <ipython-input-2-54d5410cc357>:1: BasicRNNCell.__init__ (from tensorflow.python.ops.rnn_cell_impl) is deprecated and will be removed in a future version.\n",
      "Instructions for updating:\n",
      "This class is equivalent as tf.keras.layers.SimpleRNNCell, and will be replaced by that in Tensorflow 2.0.\n"
     ]
    }
   ],
   "source": [
    "rnn_sigle = tf.nn.rnn_cell.BasicRNNCell(200)\n",
    "#构造一个序列， 长度6 batch 5, 特征100\n",
    "x = tf.random_normal([6,5,100])\n",
    "init_state = rnn_sigle.zero_state(5, tf.float32)\n",
    "state = init_state"
   ]
  },
  {
   "cell_type": "code",
   "execution_count": 4,
   "metadata": {},
   "outputs": [],
   "source": [
    "outputs= []\n",
    "for i in range(6):\n",
    "    if i>0:\n",
    "        tf.get_variable_scope().reuse_variables()\n",
    "    out, state = rnn_sigle(x[i], state)\n",
    "    outputs.append(out)"
   ]
  },
  {
   "cell_type": "code",
   "execution_count": 22,
   "metadata": {},
   "outputs": [
    {
     "data": {
      "text/plain": [
       "TensorShape([Dimension(5), Dimension(200)])"
      ]
     },
     "execution_count": 22,
     "metadata": {},
     "output_type": "execute_result"
    }
   ],
   "source": [
    "init_state.shape"
   ]
  },
  {
   "cell_type": "code",
   "execution_count": 6,
   "metadata": {},
   "outputs": [
    {
     "name": "stdout",
     "output_type": "stream",
     "text": [
      "(5, 200)\n"
     ]
    }
   ],
   "source": [
    "sess = tf.InteractiveSession()\n",
    "sess.run(tf.global_variables_initializer())\n",
    "print(state.shape)\n",
    "\n",
    "print(len(outputs))"
   ]
  },
  {
   "cell_type": "code",
   "execution_count": 23,
   "metadata": {},
   "outputs": [
    {
     "name": "stdout",
     "output_type": "stream",
     "text": [
      "(5, 200)\n",
      "[[-0.04559175 -0.37242442 -0.655521    0.7766603   0.521263   -0.80455273]\n",
      " [ 0.46494737  0.97858495  0.5433805  -0.13542993  0.12379953 -0.63065827]\n",
      " [-0.40336892 -0.4017918  -0.04248516 -0.12526512 -0.48862267  0.9345258 ]\n",
      " [-0.29342023 -0.18346852 -0.07702596  0.26332256  0.9613456   0.09616972]\n",
      " [ 0.3814289   0.8751279  -0.54198205 -0.08251179  0.08179384  0.05573547]]\n"
     ]
    }
   ],
   "source": [
    "#dynamic_rnn\n",
    "out, final_state = tf.nn.dynamic_rnn(rnn_sigle, x, initial_state=init_state, time_major=True)\n",
    "print(final_state.shape)\n",
    "print(sess.run(final_state)[:,:6])"
   ]
  },
  {
   "cell_type": "code",
   "execution_count": 24,
   "metadata": {},
   "outputs": [
    {
     "name": "stdout",
     "output_type": "stream",
     "text": [
      "(6, 5, 200)\n"
     ]
    }
   ],
   "source": [
    "print(out.shape)"
   ]
  },
  {
   "cell_type": "code",
   "execution_count": 30,
   "metadata": {},
   "outputs": [
    {
     "name": "stdout",
     "output_type": "stream",
     "text": [
      "[[-0.6832235   0.919807   -0.50370914  0.4006028  -0.58549273 -0.9435618 ]\n",
      " [-0.76398146  0.8777282   0.5475998  -0.35521835  0.24853514 -0.9175199 ]\n",
      " [ 0.627411   -0.23815066  0.6143807   0.71693516 -0.41454247 -0.47755322]\n",
      " [-0.06619327 -0.11835966  0.4526294  -0.2660058  -0.09451395 -0.8761625 ]\n",
      " [-0.5311825  -0.96382225  0.91070575  0.5084235   0.58590436  0.20521036]]\n"
     ]
    }
   ],
   "source": [
    "#定义初始状态，由随机正太分布组成\n",
    "init_state = tf.random_normal([5,200], dtype=tf.float32)\n",
    "out, final_state = tf.nn.dynamic_rnn(rnn_sigle, x, initial_state=init_state, time_major=True)\n",
    "print(sess.run(final_state[:, :6]))"
   ]
  },
  {
   "cell_type": "code",
   "execution_count": 28,
   "metadata": {},
   "outputs": [],
   "source": [
    "#RNN训练的过程容易产生过拟合\n",
    "def build_rnn(num_units, batch_size, keep_prop = 1):\n",
    "    cell = tf.nn.rnn_cell.BasicRNNCell(num_units)\n",
    "    cell = tf.nn.rnn_cell.DropoutWrapper(cell, output_keep_prob=keep_prop)\n",
    "    return cell\n",
    "dropout_cell = build_rnn(100, 3, 0.5)"
   ]
  },
  {
   "cell_type": "markdown",
   "metadata": {},
   "source": [
    "# LSTM"
   ]
  },
  {
   "cell_type": "code",
   "execution_count": 31,
   "metadata": {},
   "outputs": [],
   "source": [
    "#lstm中我们可以定义深层次网络，    LSTM 和 MultiRNNcell\n",
    "def build_lstm(num_units, num_layers, batch_size, keep_prop =1):\n",
    "    def build_cell(num_units):\n",
    "        cell = tf.nn.rnn_cell.LSTMCell(num_units, reuse=tf.AUTO_REUSE)\n",
    "        cell = tf.nn.rnn_cell.DropoutWrapper(cell, output_keep_prob=keep_prop)\n",
    "        return cell\n",
    "    cell = tf.nn.rnn_cell.MultiRNNCell([build_cell(num_units) for _ in range(num_layers)])\n",
    "    init_state = cell.zero_state(batch_size, tf.float32)\n",
    "    \n",
    "    return cell, init_state\n",
    "\n",
    "lstm_cell, lstm_init_state = build_lstm(100, 2, 5)\n",
    "lstm, final_state = tf.nn.dynamic_rnn(lstm_cell, x, initial_state=lstm_init_state, time_major=True)"
   ]
  },
  {
   "cell_type": "code",
   "execution_count": 36,
   "metadata": {},
   "outputs": [
    {
     "name": "stdout",
     "output_type": "stream",
     "text": [
      "layer 0\n",
      "c.shape: (5, 100)\n",
      "h.shape: (5, 100)\n",
      "layer 1\n",
      "c.shape: (5, 100)\n",
      "h.shape: (5, 100)\n"
     ]
    }
   ],
   "source": [
    "for i, layer_state in enumerate(final_state):\n",
    "    print('layer {}'.format(i))\n",
    "    print('c.shape: {}'.format(layer_state.c.shape))\n",
    "    print('h.shape: {}'.format(layer_state.h.shape))\n",
    "    \n",
    "\n",
    "print(lstm.shape)"
   ]
  },
  {
   "cell_type": "markdown",
   "metadata": {},
   "source": [
    "### 自定义状态初始化"
   ]
  },
  {
   "cell_type": "markdown",
   "metadata": {},
   "source": [
    "不用零去初始化，考虑到lstm的特殊性， tensorflow 用LSTMStatusTuple表示一个LSTMCell的状态，参数如下：\n",
    "\n",
    "状态c, 状态h"
   ]
  },
  {
   "cell_type": "code",
   "execution_count": 38,
   "metadata": {},
   "outputs": [],
   "source": [
    "init_state = tuple([tf.nn.rnn_cell.LSTMStateTuple(tf.random_normal([5,100]),\n",
    "                                                  tf.random_normal([5,100])) for _ in range(2)])\n",
    "\n",
    "init_state\n",
    "\n",
    "for i, layer_sate in enumerate(init_state):\n",
    "    print('layer: {}'.format(i))\n",
    "    print('c.shape: {}'.format(layer_state.c.shape))\n",
    "    print('h.shape: {}'.format(layer_state.h.shape))\n",
    "\n",
    "lstm, final_sate = tf.nn.dynamic_rnn(lstm_cell, x, initial_state=init_state, time_major=True)"
   ]
  },
  {
   "cell_type": "markdown",
   "metadata": {},
   "source": [
    "## GRU"
   ]
  },
  {
   "cell_type": "code",
   "execution_count": 43,
   "metadata": {},
   "outputs": [],
   "source": [
    "def build_gru(num_units, num_layers, batch_size, keep_prob=1):\n",
    "    def build_cell(num_units):\n",
    "        cell = tf.nn.rnn_cell.GRUCell(num_units, reuse=tf.AUTO_REUSE)\n",
    "        cell = tf.nn.rnn_cell.DropoutWrapper(cell, output_keep_prob=keep_prob)\n",
    "        return cell\n",
    "    cell = tf.nn.rnn_cell.MultiRNNCell([build_cell(num_units) for _ in range(num_layers)])\n",
    "    init_state = cell.zero_state(batch_size, tf.float32)\n",
    "    return cell, init_state\n",
    "\n",
    "gru_cell, gru_init_state = build_gru(100, 2, 5)\n",
    "print(gru_init_state)\n",
    "gru, final_state = tf.nn.dynamic_rnn(gru_cell, x, initial_state=gru_init_state, time_major=True)"
   ]
  },
  {
   "cell_type": "code",
   "execution_count": null,
   "metadata": {},
   "outputs": [],
   "source": []
  }
 ],
 "metadata": {
  "kernelspec": {
   "display_name": "Python 3",
   "language": "python",
   "name": "python3"
  },
  "language_info": {
   "codemirror_mode": {
    "name": "ipython",
    "version": 3
   },
   "file_extension": ".py",
   "mimetype": "text/x-python",
   "name": "python",
   "nbconvert_exporter": "python",
   "pygments_lexer": "ipython3",
   "version": "3.6.7"
  }
 },
 "nbformat": 4,
 "nbformat_minor": 2
}
