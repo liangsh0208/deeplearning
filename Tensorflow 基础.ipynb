{
 "cells": [
  {
   "cell_type": "code",
   "execution_count": 1,
   "metadata": {},
   "outputs": [],
   "source": [
    "from __future__ import print_function\n",
    "from __future__ import division\n",
    "from __future__ import absolute_import"
   ]
  },
  {
   "cell_type": "code",
   "execution_count": 2,
   "metadata": {},
   "outputs": [],
   "source": [
    "import tensorflow as tf"
   ]
  },
  {
   "cell_type": "code",
   "execution_count": 9,
   "metadata": {},
   "outputs": [
    {
     "name": "stdout",
     "output_type": "stream",
     "text": [
      "42\n"
     ]
    }
   ],
   "source": [
    "a = tf.constant(32)\n",
    "b = tf.constant(10)\n",
    "\n",
    "c = tf.add(a,b)\n",
    "\n",
    "sess = tf.Session()\n",
    "\n",
    "print(sess.run(c))\n",
    "\n",
    "sess.close()"
   ]
  },
  {
   "cell_type": "code",
   "execution_count": 10,
   "metadata": {},
   "outputs": [
    {
     "name": "stdout",
     "output_type": "stream",
     "text": [
      "Tensor(\"Const_4:0\", shape=(), dtype=int32)\n"
     ]
    }
   ],
   "source": [
    "print(a)"
   ]
  },
  {
   "cell_type": "code",
   "execution_count": 12,
   "metadata": {},
   "outputs": [],
   "source": [
    "mat = tf.constant([[1,0],[0,1]])\n",
    "sess = tf.Session()"
   ]
  },
  {
   "cell_type": "code",
   "execution_count": 13,
   "metadata": {},
   "outputs": [
    {
     "name": "stdout",
     "output_type": "stream",
     "text": [
      "[[1 0]\n",
      " [0 1]]\n"
     ]
    }
   ],
   "source": [
    "print(sess.run(mat))"
   ]
  },
  {
   "cell_type": "code",
   "execution_count": 14,
   "metadata": {},
   "outputs": [],
   "source": [
    "my_name_is_hello = tf.constant('Hello', name='Hello')\n",
    "my_name_is_world = tf.constant('World', name='World')"
   ]
  },
  {
   "cell_type": "code",
   "execution_count": 15,
   "metadata": {},
   "outputs": [
    {
     "name": "stdout",
     "output_type": "stream",
     "text": [
      "Tensor: Hello:0: b'Hello'\n"
     ]
    }
   ],
   "source": [
    "print(\"Tensor: {}: {}\".format(my_name_is_hello.name, sess.run(my_name_is_hello)))"
   ]
  },
  {
   "cell_type": "code",
   "execution_count": 21,
   "metadata": {},
   "outputs": [],
   "source": [
    "d = tf.add_n([a,b,b])\n",
    "\n",
    "e = tf.subtract(a,b)\n",
    "\n",
    "f = tf.multiply(a,b)\n",
    "\n",
    "g = tf.divide(a,b)\n",
    "\n",
    "h = tf.mod(a,b)\n",
    "\n",
    "print(sess.run([d,e,f,g,h]))"
   ]
  },
  {
   "cell_type": "code",
   "execution_count": 43,
   "metadata": {
    "scrolled": true
   },
   "outputs": [
    {
     "name": "stdout",
     "output_type": "stream",
     "text": [
      "[0.5514267, 1.0317434, -0.043819606]\n",
      "0.9999546\n"
     ]
    }
   ],
   "source": [
    "a_float = tf.cast(a, dtype=tf.float32)\n",
    "b_float = tf.cast(b, dtype=tf.float32)\n",
    "\n",
    "i = tf.sin(a_float)\n",
    "j = tf.exp(tf.divide(1.0, a_float))\n",
    "\n",
    "k = tf.add(i, tf.log(i))\n",
    "\n",
    "print(sess.run([i, j, k]))\n",
    "\n",
    "sigmoid = tf.divide(1.0, tf.add(1.0, tf.exp(-b_float)))\n",
    "\n",
    "print(sess.run(sigmoid))"
   ]
  },
  {
   "cell_type": "code",
   "execution_count": 44,
   "metadata": {},
   "outputs": [
    {
     "name": "stdout",
     "output_type": "stream",
     "text": [
      "[[1 2]\n",
      " [3 4]]\n",
      "[[ 1  3  5]\n",
      " [ 7  9 11]]\n",
      "[[15 21 27]\n",
      " [31 45 59]]\n",
      "[[1 4]\n",
      " [3 8]]\n"
     ]
    }
   ],
   "source": [
    "mat_a = tf.constant([1,2,3,4])\n",
    "mat_a = tf.reshape(mat_a,(2,2))\n",
    "\n",
    "mat_b = tf.constant([1,3,5,7,9,11])\n",
    "mat_b = tf.reshape(mat_b, (2,3))\n",
    "vec_a = tf.constant([1,2])\n",
    "\n",
    "mat_c = tf.matmul(mat_a, mat_b)\n",
    "mat_d = tf.multiply(mat_a, vec_a)\n",
    "\n",
    "print(sess.run(mat_a))\n",
    "print(sess.run(mat_b))\n",
    "print(sess.run(mat_c))\n",
    "print(sess.run(mat_d))"
   ]
  },
  {
   "cell_type": "code",
   "execution_count": 58,
   "metadata": {},
   "outputs": [
    {
     "name": "stdout",
     "output_type": "stream",
     "text": [
      "zeros:\n",
      "[[0. 0. 0.]\n",
      " [0. 0. 0.]]\n",
      "\n",
      "zeros_like:\n",
      "[[0. 0. 0.]\n",
      " [0. 0. 0.]]\n",
      "\n",
      "ones_like:\n",
      "[[1. 1. 1.]\n",
      " [1. 1. 1.]]\n",
      "\n",
      "fill:\n",
      "[[2 2 2 2]\n",
      " [2 2 2 2]]\n",
      "\n",
      "linspace:\n",
      "[1. 2. 3. 4. 5.]\n",
      "\n",
      "range:\n",
      "[ 3  6  9 12 15]\n",
      "\n"
     ]
    }
   ],
   "source": [
    "zeros = tf.zeros((2,3), dtype=tf.float32)\n",
    "\n",
    "zeros_like = tf.zeros_like(zeros)\n",
    "\n",
    "one_like = tf.ones_like(zeros)\n",
    "\n",
    "fill = tf.fill((2,4),2)\n",
    "\n",
    "linspace = tf.linspace(1.0, 5.0, 5)\n",
    "\n",
    "ranger = tf.range(3,18, delta=3)\n",
    "\n",
    "print('{}:\\n{}\\n'.format('zeros', sess.run(zeros)))\n",
    "\n",
    "print('{}:\\n{}\\n'.format('zeros_like', sess.run(zeros_like)))\n",
    "\n",
    "print('{}:\\n{}\\n'.format('ones_like', sess.run(one_like)))\n",
    "\n",
    "print('{}:\\n{}\\n'.format('fill', sess.run(fill)))\n",
    "\n",
    "print('{}:\\n{}\\n'.format('linspace', sess.run(linspace)))\n",
    "\n",
    "print('{}:\\n{}\\n'.format('range', sess.run(ranger)))"
   ]
  },
  {
   "cell_type": "code",
   "execution_count": 65,
   "metadata": {
    "scrolled": true
   },
   "outputs": [
    {
     "name": "stdout",
     "output_type": "stream",
     "text": [
      "time: 0\n",
      "rand_normal: 0.7877\n",
      "truncated_normal: 0.1986\n",
      "rand_uniform: 0.3327\n",
      "time: 1\n",
      "rand_normal: -1.1790\n",
      "truncated_normal: 0.1922\n",
      "rand_uniform: 0.2007\n",
      "time: 2\n",
      "rand_normal: -1.7079\n",
      "truncated_normal: 1.3522\n",
      "rand_uniform: 0.5093\n",
      "time: 3\n",
      "rand_normal: -0.1419\n",
      "truncated_normal: 0.8265\n",
      "rand_uniform: 0.9513\n",
      "time: 4\n",
      "rand_normal: -0.1486\n",
      "truncated_normal: 0.2604\n",
      "rand_uniform: 0.1754\n"
     ]
    }
   ],
   "source": [
    "#random tensors \n",
    "rand_normal = tf.random_normal((), mean=0.0, stddev=1.0, dtype=tf.float32, seed=None)\n",
    "\n",
    "truncated_normal = tf.truncated_normal((), mean=0.0, stddev=1.0, dtype=tf.float32, seed=None)\n",
    "#这是一个截断的产生正太分布的函数，就是说产生正太分布的值如果与均值的差值大于两倍的标准差，那就重新生成\n",
    "rand_uniform = tf.random_uniform((), minval=0.0, maxval=1.0, dtype=tf.float32, seed=None)\n",
    "\n",
    "for i in range(5):\n",
    "    print('time: %d' % i)\n",
    "    print('rand_normal: %.4f' % sess.run(rand_normal))\n",
    "    print('truncated_normal: %.4f' % sess.run(truncated_normal))\n",
    "    print('rand_uniform: %.4f' % sess.run(rand_uniform))\n",
    "\n"
   ]
  },
  {
   "cell_type": "code",
   "execution_count": 67,
   "metadata": {},
   "outputs": [],
   "source": [
    "sess.close()"
   ]
  },
  {
   "cell_type": "code",
   "execution_count": 66,
   "metadata": {},
   "outputs": [],
   "source": [
    "var_a =tf.Variable(0, dtype=tf.float32)\n",
    "var_b = tf.Variable([1,2], dtype=tf.float32)\n",
    "var_w = tf.Variable(tf.zeros((1024, 10)))\n",
    "\n",
    "sess =tf.InteractiveSession()\n",
    "\n",
    "init = tf.global_variables_initializer()\n",
    "\n",
    "sess.run(init)\n",
    "init.run()\n",
    "\n",
    "init_ab = tf.variables_initializer([var_a, var_b])\n",
    "\n",
    "init_ab.run()\n",
    "\n",
    "var_w.initializer.run()"
   ]
  },
  {
   "cell_type": "code",
   "execution_count": 79,
   "metadata": {},
   "outputs": [
    {
     "name": "stdout",
     "output_type": "stream",
     "text": [
      "<tf.Variable 'Variable_5:0' shape=() dtype=int32_ref>\n",
      "10\n",
      "10\n"
     ]
    }
   ],
   "source": [
    "W = tf.Variable(10)\n",
    "sess.run(W.initializer)\n",
    "\n",
    "print(W)\n",
    "print(sess.run(W))\n",
    "print(W.eval())"
   ]
  },
  {
   "cell_type": "code",
   "execution_count": 84,
   "metadata": {},
   "outputs": [
    {
     "name": "stdout",
     "output_type": "stream",
     "text": [
      "10\n",
      "100\n"
     ]
    }
   ],
   "source": [
    "W.assign(100)\n",
    "W.initializer.run()\n",
    "print(W.eval(sess))\n",
    "\n",
    "assign_op = W.assign(100)\n",
    "W.initializer.run()\n",
    "assign_op.eval()\n",
    "print(W.eval())"
   ]
  },
  {
   "cell_type": "code",
   "execution_count": 87,
   "metadata": {},
   "outputs": [
    {
     "name": "stdout",
     "output_type": "stream",
     "text": [
      "20\n",
      "18\n",
      "16\n",
      "16\n"
     ]
    }
   ],
   "source": [
    "assign_add = W.assign_add(10)\n",
    "assign_sub = W.assign_sub(2)\n",
    "W.initializer.run()\n",
    "\n",
    "print(assign_add.eval())\n",
    "print(assign_sub.eval())\n",
    "print(assign_sub.eval())\n",
    "print(W.eval())"
   ]
  },
  {
   "cell_type": "code",
   "execution_count": 91,
   "metadata": {},
   "outputs": [
    {
     "name": "stdout",
     "output_type": "stream",
     "text": [
      "name_scope_1/Variable:0\n",
      "name_scope_1/Variable_1:0\n",
      "var_scope_1/Variable:0\n",
      "var_scope_1/Variable_1:0\n"
     ]
    }
   ],
   "source": [
    "# tensor 名称域 name_scope , variable_scope\n",
    "with tf.name_scope('name_scope'):\n",
    "    var_a = tf.Variable(0, dtype=tf.int32)\n",
    "    var_b = tf.Variable([1,2], dtype=tf.float32)\n",
    "\n",
    "with tf.variable_scope('var_scope'):\n",
    "    var_c = tf.Variable(0, dtype=tf.int32)\n",
    "    var_d = tf.Variable([1,2], dtype=tf.float32)\n",
    "\n",
    "print(var_a.name)\n",
    "print(var_b.name)\n",
    "print(var_c.name)\n",
    "print(var_d.name)"
   ]
  },
  {
   "cell_type": "code",
   "execution_count": 96,
   "metadata": {},
   "outputs": [
    {
     "name": "stdout",
     "output_type": "stream",
     "text": [
      "[1. 2. 3.]\n",
      "[array([1., 2., 3.], dtype=float32), array([[ True, False]])]\n"
     ]
    }
   ],
   "source": [
    "#placeholders  占位符\n",
    "a =tf.placeholder(tf.float32, shape=[3])\n",
    "b = tf.placeholder(tf.bool, shape=[1,2])\n",
    "\n",
    "print(sess.run(a, feed_dict={a: [1,2,3]}))\n",
    "print(sess.run([a,b], feed_dict={a:[1,2,3], b:[[True,False]]}))"
   ]
  },
  {
   "cell_type": "code",
   "execution_count": 97,
   "metadata": {},
   "outputs": [],
   "source": [
    "a = tf.placeholder(tf.float32)\n",
    "square = tf.square(a)"
   ]
  },
  {
   "cell_type": "code",
   "execution_count": 101,
   "metadata": {},
   "outputs": [
    {
     "name": "stdout",
     "output_type": "stream",
     "text": [
      "1.0\n",
      "4.0\n",
      "16.0\n",
      "64.0\n"
     ]
    }
   ],
   "source": [
    "for i in [1,2,4,8]:\n",
    "    print(square.eval(feed_dict={a:i}))"
   ]
  },
  {
   "cell_type": "code",
   "execution_count": 104,
   "metadata": {},
   "outputs": [
    {
     "name": "stdout",
     "output_type": "stream",
     "text": [
      "<tensorflow.python.framework.ops.Graph object at 0x7feffeaf74a8>\n"
     ]
    }
   ],
   "source": [
    "#tf.Graph\n",
    "g = tf.get_default_graph()\n",
    "\n",
    "print(g)\n",
    "\n",
    "for op in g.get_operations():\n",
    "    print(op.name)"
   ]
  },
  {
   "cell_type": "code",
   "execution_count": 110,
   "metadata": {},
   "outputs": [],
   "source": [
    "#what_is_this = g.get_tensor_by_name('Hello:0')\n",
    "#print(what_is_this.eval())\n",
    "#sess.close()"
   ]
  },
  {
   "cell_type": "code",
   "execution_count": 116,
   "metadata": {},
   "outputs": [],
   "source": [
    "tf.reset_default_graph()"
   ]
  },
  {
   "cell_type": "code",
   "execution_count": 117,
   "metadata": {},
   "outputs": [
    {
     "name": "stdout",
     "output_type": "stream",
     "text": [
      "g1 <tensorflow.python.framework.ops.Graph object at 0x7fefc84d77f0>\n"
     ]
    }
   ],
   "source": [
    "g1 = tf.Graph()\n",
    "print('g1', g1)\n",
    "\n",
    "print('default_graph', tf.get_default_graph())\n",
    "g1.as_default()\n",
    "print('default_graph', tf.get_default_graph())"
   ]
  },
  {
   "cell_type": "code",
   "execution_count": 119,
   "metadata": {},
   "outputs": [],
   "source": [
    "a1 = tf.constant(32, name='a1')"
   ]
  },
  {
   "cell_type": "code",
   "execution_count": 120,
   "metadata": {},
   "outputs": [],
   "source": [
    "with g1.as_default():\n",
    "    a2 = tf.constant(32, name='a2')"
   ]
  },
  {
   "cell_type": "code",
   "execution_count": 121,
   "metadata": {},
   "outputs": [
    {
     "name": "stdout",
     "output_type": "stream",
     "text": [
      "a.graph:  <tensorflow.python.framework.ops.Graph object at 0x7feffeaf74a8>\n",
      "a1.graph: <tensorflow.python.framework.ops.Graph object at 0x7fefc84d7dd8>\n",
      "a2.graph: <tensorflow.python.framework.ops.Graph object at 0x7fefc84d77f0>\n"
     ]
    }
   ],
   "source": [
    "print('a.graph: ', a.graph)\n",
    "print('a1.graph:', a1.graph)\n",
    "print('a2.graph:', a2.graph)"
   ]
  },
  {
   "cell_type": "code",
   "execution_count": null,
   "metadata": {},
   "outputs": [],
   "source": []
  }
 ],
 "metadata": {
  "kernelspec": {
   "display_name": "Python 3",
   "language": "python",
   "name": "python3"
  },
  "language_info": {
   "codemirror_mode": {
    "name": "ipython",
    "version": 3
   },
   "file_extension": ".py",
   "mimetype": "text/x-python",
   "name": "python",
   "nbconvert_exporter": "python",
   "pygments_lexer": "ipython3",
   "version": "3.5.2"
  }
 },
 "nbformat": 4,
 "nbformat_minor": 2
}
