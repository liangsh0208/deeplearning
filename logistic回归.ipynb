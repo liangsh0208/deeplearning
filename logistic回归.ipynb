{
 "cells": [
  {
   "cell_type": "code",
   "execution_count": 78,
   "metadata": {},
   "outputs": [],
   "source": [
    "from __future__ import  print_function\n",
    "from __future__ import division\n",
    "from __future__ import absolute_import\n",
    "\n",
    "import tensorflow as tf\n",
    "import numpy as np\n",
    "import matplotlib.pyplot as plt\n",
    "\n",
    "tf.set_random_seed(2019)"
   ]
  },
  {
   "cell_type": "code",
   "execution_count": 90,
   "metadata": {},
   "outputs": [],
   "source": [
    "tf.reset_default_graph()\n",
    "sess.close()"
   ]
  },
  {
   "cell_type": "code",
   "execution_count": 91,
   "metadata": {},
   "outputs": [],
   "source": [
    "from sklearn.datasets import  load_iris\n",
    "X,Y = load_iris(return_X_y=True)\n",
    "x_data = tf.constant(X[:,0:4],name='x',dtype=tf.float32)\n",
    "y_data = tf.expand_dims(tf.constant(Y, dtype=tf.float32),axis=-1)\n",
    "w = tf.get_variable(initializer=tf.random_normal_initializer(seed=2019), shape=(4,1),dtype=tf.float32,name=\"weight\")\n",
    "b = tf.get_variable(initializer=tf.zeros_initializer(), shape=1,dtype=tf.float32, name=\"bias\")\n",
    "\n",
    "def logistic_regression(x):\n",
    "    return tf.sigmoid(tf.matmul(x,w)+b)\n",
    "sess = tf.InteractiveSession()\n",
    "sess.run(tf.global_variables_initializer())\n",
    "def binary_loss(y_pred,y):\n",
    "    logit = tf.reduce_mean(y*tf.log(y_pred)+(1-y)*tf.log(1-y_pred))\n",
    "    return -logit\n",
    "\n",
    "y_pred = logistic_regression(x_data)"
   ]
  },
  {
   "cell_type": "code",
   "execution_count": 101,
   "metadata": {},
   "outputs": [],
   "source": [
    "loss = binary_loss(y_pred, y_data)\n",
    "#手动计算梯度，并更新\n",
    "w_grad, b_grad = tf.gradients(loss,[w,b])\n",
    "lr = 0.1\n",
    "w_update = w.assign_sub(lr*w_grad)\n",
    "b_update = b.assign_sub(lr*b_grad)"
   ]
  },
  {
   "cell_type": "code",
   "execution_count": 105,
   "metadata": {},
   "outputs": [
    {
     "data": {
      "text/plain": [
       "[array([[ 0.21858457],\n",
       "        [-0.7079771 ],\n",
       "        [ 0.86685777],\n",
       "        [ 0.9065998 ]], dtype=float32), array([0.03749988], dtype=float32)]"
      ]
     },
     "execution_count": 105,
     "metadata": {},
     "output_type": "execute_result"
    }
   ],
   "source": [
    "sess.run([w_update, b_update])\n",
    "print(loss.eval(session=sess))"
   ]
  },
  {
   "cell_type": "code",
   "execution_count": 115,
   "metadata": {},
   "outputs": [
    {
     "name": "stderr",
     "output_type": "stream",
     "text": [
      "/usr/local/lib/python3.5/dist-packages/ipykernel_launcher.py:13: RuntimeWarning: invalid value encountered in greater_equal\n",
      "  del sys.path[0]\n"
     ]
    },
    {
     "name": "stdout",
     "output_type": "stream",
     "text": [
      "Epoch 200, Loss: nan, Acc: 0.3333,\n",
      "Epoch 400, Loss: nan, Acc: 0.3333,\n",
      "Epoch 600, Loss: nan, Acc: 0.3333,\n",
      "Epoch 800, Loss: nan, Acc: 0.3333,\n",
      "Epoch 1000, Loss: nan, Acc: 0.3333,\n",
      "mamual_GD cost time: 0.4175\n"
     ]
    }
   ],
   "source": [
    "#集成优化器\n",
    "optimizer = tf.train.GradientDescentOptimizer(learning_rate=1, name='optimizer')\n",
    "train_op = optimizer.minimize(loss)\n",
    "import time\n",
    "sess.run(tf.global_variables_initializer())\n",
    "\n",
    "start = time.time()\n",
    "for e in range(1000):\n",
    "    sess.run(train_op)\n",
    "    if (e+1) %200 == 0:\n",
    "        y_true_label = y_data.eval(session=sess)\n",
    "        y_pred_numpy = y_pred.eval(session=sess)\n",
    "        y_pred_label = np.greater_equal(y_pred_numpy,0.5).astype(np.float32)\n",
    "        \n",
    "        accuracy = np.mean(y_pred_label == y_true_label)\n",
    "        loss_numpy = loss.eval(session=sess)\n",
    "        print('Epoch %d, Loss: %.4f, Acc: %.4f,' % (e+1, loss_numpy, accuracy))\n",
    "\n",
    "print('mamual_GD cost time: %.4f' % (time.time() - start))"
   ]
  },
  {
   "cell_type": "code",
   "execution_count": 116,
   "metadata": {},
   "outputs": [],
   "source": [
    "#tf 集成losses\n",
    "loss1 = tf.losses.log_loss(predictions=y_pred, labels=y_data)\n",
    "optimizer1 = tf.train.GradientDescentOptimizer(learning_rate=lr)\n",
    "train_op1 = optimizer1.minimize(loss1)\n",
    "sess.run(tf.global_variables_initializer())\n",
    "\n",
    "start = time.time()\n",
    "for e in range(1000):\n",
    "    sess.run(train_op1)\n",
    "    if (e+1) %200 == 0:\n",
    "        y_true_label = y_data.eval(session=sess)\n",
    "        y_pred_numpy = y_pred.eval(session=sess)\n",
    "        y_pred_label = np.greater_equal(y_pred_numpy,0.5).astype(np.float32)\n",
    "        \n",
    "        accuracy = np.mean(y_pred_label == y_true_label)\n",
    "        loss_numpy = loss.eval(session=sess)\n",
    "        print('Epoch %d, Loss: %.4f, Acc: %.4f,' % (e+1, loss_numpy, accuracy))\n",
    "\n",
    "print('mamual_GD cost time: %.4f' % (time.time() - start))"
   ]
  },
  {
   "cell_type": "code",
   "execution_count": null,
   "metadata": {},
   "outputs": [],
   "source": []
  }
 ],
 "metadata": {
  "kernelspec": {
   "display_name": "Python 3",
   "language": "python",
   "name": "python3"
  },
  "language_info": {
   "codemirror_mode": {
    "name": "ipython",
    "version": 3
   },
   "file_extension": ".py",
   "mimetype": "text/x-python",
   "name": "python",
   "nbconvert_exporter": "python",
   "pygments_lexer": "ipython3",
   "version": "3.5.2"
  }
 },
 "nbformat": 4,
 "nbformat_minor": 2
}
