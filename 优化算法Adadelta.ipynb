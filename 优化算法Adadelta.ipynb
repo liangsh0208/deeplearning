{
 "cells": [
  {
   "cell_type": "code",
   "execution_count": 1,
   "metadata": {},
   "outputs": [],
   "source": [
    "from __future__ import  division\n",
    "from __future__ import  absolute_import\n",
    "from __future__ import print_function\n",
    "\n",
    "import tensorflow as tf\n",
    "import numpy as np\n",
    "import time\n",
    "import tensorflow.examples.tutorials.mnist.input_data as input_data\n",
    "\n",
    "import sys\n",
    "\n",
    "tf.set_random_seed(2019)\n",
    "\n",
    "mnist = input_data.read_data_sets('MNIST_data/', one_hot=True)\n",
    "\n",
    "train_set = mnist.train\n",
    "test_set = mnist.test\n",
    "\n",
    "def hidden_layer(layer_input, output_depth, scope = \"hidden_layer\", reuse=None,weights_collection=None, \n",
    "                 biases_collection=None):\n",
    "    input_depth = layer_input.get_shape()[-1]\n",
    "    with tf.variable_scope(scope, reuse=reuse):\n",
    "        w = tf.get_variable(initializer=tf.truncated_normal_initializer(stddev=0.1), \n",
    "                            shape=(input_depth, output_depth),name=\"weights\")\n",
    "        tf.add_to_collection(weights_collection,w)\n",
    "        b = tf.get_variable(initializer=tf.constant_initializer(0.1), shape=(output_depth), name=\"bias\")\n",
    "        tf.add_to_collection(biases_collection,b)\n",
    "        net = tf.matmul(layer_input,w)+b\n",
    "        \n",
    "        return net\n",
    "\n",
    "def DNN(x, output_depths, scope='DNN', reuse=None,weights_collection=None, biases_collection=None):\n",
    "    net=x\n",
    "    for i , output_depth in enumerate(output_depths):\n",
    "        net = hidden_layer(net,output_depth,scope='layer%d' % i, reuse=reuse,\n",
    "                           weights_collection=weights_collection, biases_collection=biases_collection)\n",
    "        net = tf.nn.relu(net)\n",
    "    net = hidden_layer(net,10, scope='classification', reuse=reuse)\n",
    "    \n",
    "    return net\n",
    "\n",
    "input_ph = tf.placeholder(shape=(None,784),dtype=tf.float32)\n",
    "label_ph = tf.placeholder(shape=(None,10), dtype=tf.int64)\n",
    "\n",
    "dnn = DNN(input_ph, [400,200,100],weights_collection='params', biases_collection='params')\n",
    "loss = tf.losses.softmax_cross_entropy(logits=dnn, onehot_labels=label_ph)\n",
    "acc = tf.reduce_mean(tf.cast(tf.equal(tf.argmax(dnn,axis=-1), tf.argmax(label_ph, axis=-1)), dtype=tf.float32))\n",
    "\n",
    "params = tf.get_collection('params')\n",
    "gradients = tf.gradients(loss,params)"
   ]
  },
  {
   "cell_type": "code",
   "execution_count": 24,
   "metadata": {},
   "outputs": [],
   "source": [
    "def adadelta_update(params, gradients, sqrs, deltas, rho, name='adadelta_update'):\n",
    "    eps = 1e-6\n",
    "    update_ops = []\n",
    "    for param, gradient, sqr, delta in zip(params, gradients, sqrs, deltas):\n",
    "        sqr_update = sqr.assign(rho*sqr+(1-rho)*tf.square(gradient))\n",
    "        #sqr_update = sqr.assign(rho * sqr + (1 - rho) * tf.square(gradient))\n",
    "        with tf.control_dependencies([sqr_update]):\n",
    "            curr_delta = tf.sqrt(delta+eps)/tf.sqrt(sqr+eps)*gradient\n",
    "            delta_update = delta.assign(rho*delta+(1-rho)*tf.square(gradient))\n",
    "            #delta_update = delta.assign(rho * delta + (1 - rho) * tf.square(gradient))\n",
    "            with tf.control_dependencies([delta_update]):\n",
    "                update_ops.append(param.assign_sub(curr_delta))\n",
    "    update_op = tf.group(*update_ops, name=name)\n",
    "    #update_op = tf.group(*update_ops, name=name)\n",
    "    return update_op"
   ]
  },
  {
   "cell_type": "code",
   "execution_count": 7,
   "metadata": {},
   "outputs": [
    {
     "name": "stdout",
     "output_type": "stream",
     "text": [
      "layer0/weights\n",
      "layer0/bias\n",
      "layer1/weights\n",
      "layer1/bias\n",
      "layer2/weights\n",
      "layer2/bias\n"
     ]
    }
   ],
   "source": [
    " for i, param in enumerate(params):\n",
    "        print(param.op.name)"
   ]
  },
  {
   "cell_type": "code",
   "execution_count": 8,
   "metadata": {},
   "outputs": [],
   "source": [
    "#定义辅助变量\n",
    "with tf.variable_scope('sqrs'):\n",
    "    for i, param in enumerate(params):\n",
    "        v = tf.get_variable(param.op.name, shape = param.get_shape(), initializer=tf.zeros_initializer(),\n",
    "                            dtype=tf.float32)\n",
    "        tf.add_to_collection('sqrs',v)\n",
    "        \n",
    "with tf.variable_scope('deltas'):\n",
    "    for i, param in enumerate(params):\n",
    "        v = tf.get_variable(param.op.name, shape=param.get_shape(), initializer=tf.zeros_initializer(),\n",
    "                           dtype=tf.float32)\n",
    "        tf.add_to_collection('deltas',v)\n",
    "\n",
    "sqrs = tf.get_collection('sqrs')\n",
    "deltas = tf.get_collection('deltas')"
   ]
  },
  {
   "cell_type": "code",
   "execution_count": 25,
   "metadata": {},
   "outputs": [],
   "source": [
    "update_op = adadelta_update(params, gradients, sqrs, deltas, 0.9)"
   ]
  },
  {
   "cell_type": "code",
   "execution_count": 26,
   "metadata": {},
   "outputs": [],
   "source": [
    "sess = tf.InteractiveSession()"
   ]
  },
  {
   "cell_type": "code",
   "execution_count": 63,
   "metadata": {},
   "outputs": [],
   "source": [
    "sess.run(tf.global_variables_initializer())"
   ]
  },
  {
   "cell_type": "code",
   "execution_count": 64,
   "metadata": {},
   "outputs": [
    {
     "name": "stdout",
     "output_type": "stream",
     "text": [
      "Epoch1: Trian loss: 0.099611 Accuracy: 0.968200\n",
      "Epoch2: Trian loss: 0.049573 Accuracy: 0.985145\n",
      "Epoch3: Trian loss: 0.032647 Accuracy: 0.990054\n",
      "Epoch4: Trian loss: 0.027877 Accuracy: 0.991345\n",
      "Epoch5: Trian loss: 0.019600 Accuracy: 0.993709\n",
      "Train done ! Cost Time: 25.65\n"
     ]
    }
   ],
   "source": [
    "batch_size = 64\n",
    "train_losses = []\n",
    "\n",
    "epoch = 0\n",
    "sample_passed = 0\n",
    "epoch_done = False\n",
    "step = 0\n",
    "\n",
    "_start = time.time()\n",
    "\n",
    "while(epoch < 5):\n",
    "    if sample_passed + batch_size >= mnist.train.num_examples:\n",
    "        this_batch = mnist.train.num_examples - sample_passed\n",
    "        sample_passed =0\n",
    "        epoch +=1\n",
    "        epoch_done = True\n",
    "    else:\n",
    "        sample_passed += batch_size\n",
    "        this_batch = batch_size\n",
    "    images, labels = train_set.next_batch(this_batch)\n",
    "    \n",
    "    if epoch_done:\n",
    "        train_loss = []\n",
    "        train_acc = []\n",
    "        for _ in range(train_set.num_examples // 100):\n",
    "            image, label = train_set.next_batch(100)\n",
    "            loss_train, acc_train = sess.run([loss,acc], feed_dict={input_ph: image, label_ph: label})\n",
    "            #print(acc_train)\n",
    "            train_acc.append(acc_train)\n",
    "            train_loss.append(loss_train)\n",
    "        #print(train_acc)\n",
    "        print('Epoch{}: Trian loss: {:.6f} Accuracy: {:.6f}'.format(epoch, np.array(train_loss).mean(),\n",
    "                                                                    np.array(train_acc).mean()))\n",
    "        \n",
    "        epoch_done = False\n",
    "    \n",
    "    if step % 30 == 0:\n",
    "        loss_train = sess.run(loss, feed_dict={input_ph: images, label_ph: labels})\n",
    "        train_losses.append(loss_train)\n",
    "    sess.run(update_op, feed_dict={input_ph: images, label_ph: labels})\n",
    "    step +=1\n",
    "_end = time.time()\n",
    "print(\"Train done ! Cost Time: {:.2f}\".format(_end - _start))\n",
    "            "
   ]
  },
  {
   "cell_type": "code",
   "execution_count": 65,
   "metadata": {},
   "outputs": [
    {
     "data": {
      "text/plain": [
       "<matplotlib.legend.Legend at 0x7fbf914cb278>"
      ]
     },
     "execution_count": 65,
     "metadata": {},
     "output_type": "execute_result"
    },
    {
     "data": {
      "image/png": "[encoded data removed]",
      "text/plain": [
       "<Figure size 432x288 with 1 Axes>"
      ]
     },
     "metadata": {
      "needs_background": "light"
     },
     "output_type": "display_data"
    }
   ],
   "source": [
    "import matplotlib.pyplot as plt\n",
    "%matplotlib inline\n",
    "x_axis = np.linspace(0, 5, len(train_losses), endpoint=True)\n",
    "plt.semilogy(x_axis, train_losses, label='adadelta')\n",
    "plt.legend(loc='best')"
   ]
  },
  {
   "cell_type": "markdown",
   "metadata": {},
   "source": [
    "# tf 集成了Adatadelta算法"
   ]
  },
  {
   "cell_type": "code",
   "execution_count": 66,
   "metadata": {},
   "outputs": [],
   "source": [
    "train_op = tf.train.AdadeltaOptimizer(learning_rate=1.0, rho=0.9).minimize(loss)\n",
    "\n",
    "sess.run(tf.global_variables_initializer())"
   ]
  },
  {
   "cell_type": "code",
   "execution_count": 69,
   "metadata": {},
   "outputs": [
    {
     "name": "stdout",
     "output_type": "stream",
     "text": [
      "Epoch1: Trian loss: 0.173714 Accuracy: 0.949618\n",
      "Epoch2: Trian loss: 0.110470 Accuracy: 0.967836\n",
      "Epoch3: Trian loss: 0.081273 Accuracy: 0.976891\n",
      "Epoch4: Trian loss: 0.062335 Accuracy: 0.982200\n",
      "Epoch5: Trian loss: 0.050182 Accuracy: 0.985018\n",
      "Train done ! Cost Time: 20.41\n"
     ]
    }
   ],
   "source": [
    "batch_size = 64\n",
    "train_losses1 = []\n",
    "\n",
    "epoch = 0\n",
    "sample_passed = 0\n",
    "epoch_done = False\n",
    "step = 0\n",
    "\n",
    "_start = time.time()\n",
    "\n",
    "while(epoch < 5):\n",
    "    if sample_passed + batch_size >= mnist.train.num_examples:\n",
    "        this_batch = mnist.train.num_examples - sample_passed\n",
    "        sample_passed =0\n",
    "        epoch +=1\n",
    "        epoch_done = True\n",
    "    else:\n",
    "        sample_passed += batch_size\n",
    "        this_batch = batch_size\n",
    "    images, labels = train_set.next_batch(this_batch)\n",
    "    \n",
    "    if epoch_done:\n",
    "        train_loss = []\n",
    "        train_acc = []\n",
    "        for _ in range(train_set.num_examples // 100):\n",
    "            image, label = train_set.next_batch(100)\n",
    "            loss_train, acc_train = sess.run([loss,acc], feed_dict={input_ph: image, label_ph: label})\n",
    "            #print(acc_train)\n",
    "            train_acc.append(acc_train)\n",
    "            train_loss.append(loss_train)\n",
    "        #print(train_acc)\n",
    "        print('Epoch{}: Trian loss: {:.6f} Accuracy: {:.6f}'.format(epoch, np.array(train_loss).mean(),\n",
    "                                                                    np.array(train_acc).mean()))\n",
    "        \n",
    "        epoch_done = False\n",
    "    \n",
    "    if step % 30 == 0:\n",
    "        loss_train = sess.run(loss, feed_dict={input_ph: images, label_ph: labels})\n",
    "        train_losses1.append(loss_train)\n",
    "    sess.run(train_op, feed_dict={input_ph: images, label_ph: labels})\n",
    "    step +=1\n",
    "_end = time.time()\n",
    "print(\"Train done ! Cost Time: {:.2f}\".format(_end - _start))\n",
    "            "
   ]
  },
  {
   "cell_type": "code",
   "execution_count": 70,
   "metadata": {},
   "outputs": [
    {
     "data": {
      "text/plain": [
       "<matplotlib.legend.Legend at 0x7fbf8fd16be0>"
      ]
     },
     "execution_count": 70,
     "metadata": {},
     "output_type": "execute_result"
    },
    {
     "data": {
      "image/png": "[encoded data removed]",
      "text/plain": [
       "<Figure size 432x288 with 1 Axes>"
      ]
     },
     "metadata": {
      "needs_background": "light"
     },
     "output_type": "display_data"
    }
   ],
   "source": [
    "x_axis = np.linspace(0, 5, len(train_losses1), endpoint=True)\n",
    "plt.semilogy(x_axis, train_losses1, label='adadelta')\n",
    "plt.legend(loc='best')"
   ]
  },
  {
   "cell_type": "code",
   "execution_count": 71,
   "metadata": {},
   "outputs": [],
   "source": [
    "sess.close()"
   ]
  },
  {
   "cell_type": "code",
   "execution_count": null,
   "metadata": {},
   "outputs": [],
   "source": []
  }
 ],
 "metadata": {
  "kernelspec": {
   "display_name": "Python 3",
   "language": "python",
   "name": "python3"
  },
  "language_info": {
   "codemirror_mode": {
    "name": "ipython",
    "version": 3
   },
   "file_extension": ".py",
   "mimetype": "text/x-python",
   "name": "python",
   "nbconvert_exporter": "python",
   "pygments_lexer": "ipython3",
   "version": "3.5.2"
  }
 },
 "nbformat": 4,
 "nbformat_minor": 2
}
